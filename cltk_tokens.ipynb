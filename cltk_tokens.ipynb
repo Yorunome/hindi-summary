{
 "cells": [
  {
   "cell_type": "code",
   "execution_count": 32,
   "metadata": {},
   "outputs": [],
   "source": [
    "from cltk.stop.classical_hindi.stops import STOPS_LIST\n",
    "from cltk.corpus.utils.importer import CorpusImporter\n",
    "from cltk.tokenize.sentence import TokenizeSentence\n",
    "from cltk.tokenize.word import WordTokenizer"
   ]
  },
  {
   "cell_type": "code",
   "execution_count": 71,
   "metadata": {},
   "outputs": [],
   "source": [
    "class TextSummarization:\n",
    "    sentence = \"\"\n",
    "    hindi_stop_words = set(STOPS_LIST)\n",
    "    sentence_tokenizer = TokenizeSentence('hindi')\n",
    "\n",
    "    def __init__(self, hindi_text_input):\n",
    "        self.sentence = hindi_text_input\n",
    "\n",
    "    def word_tokenize(self):\n",
    "        word_tokenizer = WordTokenizer('sanskrit')\n",
    "        return word_tokenizer.tokenize(self.sentence)\n",
    "        # print(hindi_text_words\n",
    "\n",
    "    def sentence_tokenizer(self):\n",
    "        hindi_text_sentence_tokenize = TokenizeSentence('hindi').tokenize(self.sentence)\n",
    "        print(hindi_text_sentence_tokenize)\n",
    "        #print(\"\\nHindi sentence tokenize\")\n",
    "\n",
    "    def get_stop_words(self):\n",
    "        return self.hindi_stop_words\n",
    "\n",
    "    def print_stop_words(self):\n",
    "        print(\"Stop words:\", self.get_stop_words()[:10])\n",
    "\n",
    "    def get_filtered_sentence(self):\n",
    "        filtered_sentence = []\n",
    "        #print(len(self.word_tokenize()))\n",
    "        for w in self.word_tokenize():\n",
    "            if w not in self.get_stop_words():\n",
    "                filtered_sentence = filtered_sentence + w.split()\n",
    "\n",
    "        #print(\"filtered sentence:\", filtered_sentence)\n",
    "        #print(len(filtered_sentence))\n",
    "        return filtered_sentence\n"
   ]
  },
  {
   "cell_type": "code",
   "execution_count": 51,
   "metadata": {},
   "outputs": [],
   "source": [
    "hindi_text = [\n",
    "    \"भारत प्रशासित कश्मीर के शोपियां में हुए एक संदिग्ध चरमपंथी हमले में दो ट्रक ड्राइवरों की मौत \"\n",
    "    \"हो गई है | श्रीनगर में मौजूद बीबीसी संवाददाता रियाज़ मसरूर के मुताबिक़ ये ट्रक ड्राइवर सेब \"\n",
    "    \"लादने आए थे. ीते दो सप्ताह में ये इस तरह का तीसरा हमला  है| अभी तक किसी चरमपंथी समूह ने इस \"\n",
    "    \"हमले की ज़िम्मेदारी नहीं ली है| पुलिस के  मुताबिक़ राजस्थान, पंजाब और हरियाणा से आए तीन \"\n",
    "    \"ट्रकों पर शोपियां ज़िले के चित्रा  गांव में सेब लादे जा रहे थे. इस दौरान संदिग्ध चरमपंथियों \"\n",
    "    \"ने गोलीबारी की| \"\n",
    "    , \"बीजपी-शिवसेना गठबंधन को बहुमत मिलने के बावजूद महाराष्ट्र में नई सरकार शपथ नहीं ले पा रही \"\n",
    "      \"है| 24 अक्टूबर को आए नतीजों के बाद प्रधानमंत्री नरेंद्र मोदी ने ऐलान किया था कि देवेंद्र \"\n",
    "      \"फडणवीस की अगुवाई में महाराष्ट्र विकास करेगा| हालांकि इन सबके बीच बीजेपी और शिवसेना में \"\n",
    "      \"50-50 फॉर्मूले को लेकर खींचतान जारी है और सरकार गठन पर पेच फंसा है| \"\n",
    "    , '''वाशिंगटन: दुनिया के सबसे शक्तिशाली देश के राष्ट्रपति बराक ओबामा ने प्रधानमंत्री नरेंद्र मोदी के संदर्भ में 'टाइम' पत्रिका में लिखा, \"नरेंद्र मोदी ने अपने बाल्यकाल में अपने परिवार की सहायता करने के लिए अपने पिता की चाय बेचने में मदद की थी। आज वह दुनिया के सबसे बड़े लोकतंत्र के नेता हैं और गरीबी से प्रधानमंत्री तक की उनकी जिंदगी की कहानी भारत के उदय की गतिशीलता और क्षमता को परिलक्षित करती है।''']"
   ]
  },
  {
   "cell_type": "code",
   "execution_count": 52,
   "metadata": {},
   "outputs": [
    {
     "name": "stdout",
     "output_type": "stream",
     "text": [
      "Choose a hindi sample text or enter it manually. Options: 1, 2 or 3\n",
      "Enter choice: \n",
      "3\n"
     ]
    }
   ],
   "source": [
    "print(\"Choose a hindi sample text or enter it manually. Options: 1, 2 or 3\")\n",
    "print(\"Enter choice: \")\n",
    "choice = input()"
   ]
  },
  {
   "cell_type": "code",
   "execution_count": 53,
   "metadata": {},
   "outputs": [],
   "source": [
    "sentence = \"\"\n",
    "if choice == \"1\" or choice == \"2\" or choice == \"3\":\n",
    "    sentence = hindi_text[int(choice) - 1]\n",
    "else:\n",
    "    sentence = choice"
   ]
  },
  {
   "cell_type": "code",
   "execution_count": 64,
   "metadata": {},
   "outputs": [],
   "source": [
    "from cltk.stop.classical_hindi.stops import STOPS_LIST\n",
    "textSummarization = TextSummarization(sentence)"
   ]
  },
  {
   "cell_type": "code",
   "execution_count": 89,
   "metadata": {},
   "outputs": [],
   "source": [
    "def frequency_matrix(para):\n",
    "    matrix = {}\n",
    "    w = TextSummarization(para)\n",
    "    sentences = w.sentence_tokenizer()\n",
    "    \n",
    "    #print(sentences)\n",
    "        \n",
    "    return matrix"
   ]
  },
  {
   "cell_type": "code",
   "execution_count": 90,
   "metadata": {},
   "outputs": [
    {
     "name": "stdout",
     "output_type": "stream",
     "text": [
      "['वाशिंगटन: दुनिया के सबसे शक्तिशाली देश के राष्ट्रपति बराक ओबामा ने प्रधानमंत्री नरेंद्र मोदी के संदर्भ में \\'टाइम\\' पत्रिका में लिखा, \"नरेंद्र मोदी ने अपने बाल्यकाल में अपने परिवार की सहायता करने के लिए अपने पिता की चाय बेचने में मदद की थी।', 'आज वह दुनिया के सबसे बड़े लोकतंत्र के नेता हैं और गरीबी से प्रधानमंत्री तक की उनकी जिंदगी की कहानी भारत के उदय की गतिशीलता और क्षमता को परिलक्षित करती है।']\n"
     ]
    },
    {
     "data": {
      "text/plain": [
       "{}"
      ]
     },
     "execution_count": 90,
     "metadata": {},
     "output_type": "execute_result"
    }
   ],
   "source": [
    "frequency_matrix(hindi_text[2])"
   ]
  },
  {
   "cell_type": "code",
   "execution_count": null,
   "metadata": {},
   "outputs": [],
   "source": []
  }
 ],
 "metadata": {
  "kernelspec": {
   "display_name": "Python 3",
   "language": "python",
   "name": "python3"
  },
  "language_info": {
   "codemirror_mode": {
    "name": "ipython",
    "version": 3
   },
   "file_extension": ".py",
   "mimetype": "text/x-python",
   "name": "python",
   "nbconvert_exporter": "python",
   "pygments_lexer": "ipython3",
   "version": "3.6.8"
  }
 },
 "nbformat": 4,
 "nbformat_minor": 2
}
