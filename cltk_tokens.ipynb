{
 "cells": [
  {
   "cell_type": "code",
   "execution_count": 32,
   "metadata": {},
   "outputs": [],
   "source": [
    "from cltk.stop.classical_hindi.stops import STOPS_LIST\n",
    "from cltk.corpus.utils.importer import CorpusImporter\n",
    "from cltk.tokenize.sentence import TokenizeSentence\n",
    "from cltk.tokenize.word import WordTokenizer"
   ]
  },
  {
   "cell_type": "code",
   "execution_count": 33,
   "metadata": {},
   "outputs": [],
   "source": [
    "class TextSummarization:\n",
    "    sentence = \"\"\n",
    "    hindi_stop_words = set(STOPS_LIST)\n",
    "    sentence_tokenizer = TokenizeSentence('hindi')\n",
    "\n",
    "    def __init__(self, hindi_text_input):\n",
    "        self.sentence = hindi_text_input\n",
    "\n",
    "    def word_tokenize(self):\n",
    "        word_tokenizer = WordTokenizer('sanskrit')\n",
    "        return word_tokenizer.tokenize(self.sentence)\n",
    "        # print(hindi_text_words\n",
    "\n",
    "    def sentence_tokenizer(self):\n",
    "        hindi_text_sentence_tokenize = TokenizeSentence('hindi').tokenize(self.sentence)\n",
    "        # print(hindi_text_sentence_tokenize)\n",
    "        print(\"\\nHindi sentence tokenize\")\n",
    "        for i in hindi_text_sentence_tokenize:\n",
    "            print(i)\n",
    "\n",
    "    def get_stop_words(self):\n",
    "        return self.hindi_stop_words\n",
    "\n",
    "    def print_stop_words(self):\n",
    "        print(\"Stop words:\", self.get_stop_words()[:10])\n",
    "\n",
    "    def get_filtered_sentence(self):\n",
    "        filtered_sentence = []\n",
    "        for w in self.word_tokenize():\n",
    "            if w not in self.get_stop_words():\n",
    "                filtered_sentence = filtered_sentence + w.split()\n",
    "\n",
    "        print(\"filtered sentence:\", filtered_sentence)\n"
   ]
  },
  {
   "cell_type": "code",
   "execution_count": 34,
   "metadata": {},
   "outputs": [],
   "source": [
    "hindi_text = [\n",
    "    \"भारत प्रशासित कश्मीर के शोपियां में हुए एक संदिग्ध चरमपंथी हमले में दो ट्रक ड्राइवरों की मौत \"\n",
    "    \"हो गई है | श्रीनगर में मौजूद बीबीसी संवाददाता रियाज़ मसरूर के मुताबिक़ ये ट्रक ड्राइवर सेब \"\n",
    "    \"लादने आए थे. ीते दो सप्ताह में ये इस तरह का तीसरा हमला  है| अभी तक किसी चरमपंथी समूह ने इस \"\n",
    "    \"हमले की ज़िम्मेदारी नहीं ली है| पुलिस के  मुताबिक़ राजस्थान, पंजाब और हरियाणा से आए तीन \"\n",
    "    \"ट्रकों पर शोपियां ज़िले के चित्रा  गांव में सेब लादे जा रहे थे. इस दौरान संदिग्ध चरमपंथियों \"\n",
    "    \"ने गोलीबारी की| \"\n",
    "    , \"बीजपी-शिवसेना गठबंधन को बहुमत मिलने के बावजूद महाराष्ट्र में नई सरकार शपथ नहीं ले पा रही \"\n",
    "      \"है| 24 अक्टूबर को आए नतीजों के बाद प्रधानमंत्री नरेंद्र मोदी ने ऐलान किया था कि देवेंद्र \"\n",
    "      \"फडणवीस की अगुवाई में महाराष्ट्र विकास करेगा| हालांकि इन सबके बीच बीजेपी और शिवसेना में \"\n",
    "      \"50-50 फॉर्मूले को लेकर खींचतान जारी है और सरकार गठन पर पेच फंसा है| \"\n",
    "    , \"इस बीच शिवसेना प्रमुख उद्धव ठाकरे का बड़ा बयान सामने आया है| शिवसेना की मीटिंग में उद्धव \"\n",
    "      \"ठाकरे ने कहा कि हमारी संख्या बल अच्छी है और सीएम पद पर हमारा हक है और हमारी ज़िद्द भी. \"\n",
    "      \"उन्होंने कहा कि सीएम का पद हमेशा एक के लिए कायम नहीं रहता| बालासाहेब ठाकरे ने जिसे जो वचन \"\n",
    "      \"दिया उसने उसका पालन किया| हम सत्ता के भूखे नहीं हैं, लेकिन बीजेपी से जो बात हुई उसका पालन \"\n",
    "      \"होना चाहिए| \"\n",
    "]"
   ]
  },
  {
   "cell_type": "code",
   "execution_count": 38,
   "metadata": {},
   "outputs": [
    {
     "name": "stdout",
     "output_type": "stream",
     "text": [
      "Choose a hindi sample text or enter it manually. Options: 1, 2 or 3\n",
      "Enter choice: \n",
      "3\n"
     ]
    }
   ],
   "source": [
    "print(\"Choose a hindi sample text or enter it manually. Options: 1, 2 or 3\")\n",
    "print(\"Enter choice: \")\n",
    "choice = input()"
   ]
  },
  {
   "cell_type": "code",
   "execution_count": 39,
   "metadata": {},
   "outputs": [],
   "source": [
    "sentence = \"\"\n",
    "if choice == \"1\" or choice == \"2\" or choice == \"3\":\n",
    "    sentence = hindi_text[int(choice) - 1]\n",
    "else:\n",
    "    sentence = choice"
   ]
  },
  {
   "cell_type": "code",
   "execution_count": 40,
   "metadata": {},
   "outputs": [
    {
     "name": "stdout",
     "output_type": "stream",
     "text": [
      "\n",
      "Hindi sentence tokenize\n",
      "इस बीच शिवसेना प्रमुख उद्धव ठाकरे का बड़ा बयान सामने आया है|\n",
      "शिवसेना की मीटिंग में उद्धव ठाकरे ने कहा कि हमारी संख्या बल अच्छी है और सीएम पद पर हमारा हक है और हमारी ज़िद्द भी. उन्होंने कहा कि सीएम का पद हमेशा एक के लिए कायम नहीं रहता|\n",
      "बालासाहेब ठाकरे ने जिसे जो वचन दिया उसने उसका पालन किया|\n",
      "हम सत्ता के भूखे नहीं हैं, लेकिन बीजेपी से जो बात हुई उसका पालन होना चाहिए|\n",
      "\n",
      "filtered sentence: ['बीच', 'शिवसेना', 'प्रमुख', 'उद्धव', 'ठाकरे', 'बड़ा', 'बयान', 'सामने', 'आया', 'है|', 'शिवसेना', 'मीटिंग', 'उद्धव', 'ठाकरे', 'कहा', 'हमारी', 'संख्या', 'बल', 'अच्छी', 'सीएम', 'पद', 'हमारा', 'हक', 'हमारी', 'ज़िद्द', 'भी.', 'उन्होंने', 'कहा', 'सीएम', 'पद', 'हमेशा', 'कायम', 'रहता|', 'बालासाहेब', 'ठाकरे', 'जिसे', 'वचन', 'दिया', 'उसने', 'उसका', 'पालन', 'किया|', 'सत्ता', 'भूखे', ',', 'लेकिन', 'बीजेपी', 'बात', 'उसका', 'पालन', 'होना', 'चाहिए|']\n"
     ]
    }
   ],
   "source": [
    "textSummarization = TextSummarization(sentence)\n",
    "textSummarization.sentence_tokenizer()\n",
    "textSummarization.get_filtered_sentence()"
   ]
  },
  {
   "cell_type": "code",
   "execution_count": null,
   "metadata": {},
   "outputs": [],
   "source": []
  }
 ],
 "metadata": {
  "kernelspec": {
   "display_name": "Python 3",
   "language": "python",
   "name": "python3"
  },
  "language_info": {
   "codemirror_mode": {
    "name": "ipython",
    "version": 3
   },
   "file_extension": ".py",
   "mimetype": "text/x-python",
   "name": "python",
   "nbconvert_exporter": "python",
   "pygments_lexer": "ipython3",
   "version": "3.6.8"
  }
 },
 "nbformat": 4,
 "nbformat_minor": 2
}
